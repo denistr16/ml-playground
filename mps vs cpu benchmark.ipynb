{
 "cells": [
  {
   "cell_type": "code",
   "execution_count": 1,
   "id": "3a927275",
   "metadata": {},
   "outputs": [
    {
     "name": "stdout",
     "output_type": "stream",
     "text": [
      "True\n",
      "True\n"
     ]
    }
   ],
   "source": [
    "from time import perf_counter\n",
    "import torch\n",
    "import math\n",
    "\n",
    "print(torch.backends.mps.is_available())\n",
    "print(torch.backends.mps.is_built())"
   ]
  },
  {
   "cell_type": "code",
   "execution_count": 2,
   "id": "fec18368",
   "metadata": {},
   "outputs": [],
   "source": [
    "# Create random input and output data\n",
    "x = torch.linspace(-math.pi, math.pi, 2000, device=torch.device(\"mps\"), dtype=torch.float)\n",
    "x_cpu = torch.linspace(-math.pi, math.pi, 2000, device='cpu', dtype=torch.float)"
   ]
  },
  {
   "cell_type": "code",
   "execution_count": 3,
   "id": "6be6ac23",
   "metadata": {},
   "outputs": [
    {
     "name": "stdout",
     "output_type": "stream",
     "text": [
      "x_cpu.device - cpu\n",
      "x.device - mps:0\n"
     ]
    }
   ],
   "source": [
    "print(f'x_cpu.device - {x_cpu.device}')\n",
    "print(f'x.device - {x.device}')"
   ]
  },
  {
   "cell_type": "code",
   "execution_count": 4,
   "id": "e55b5ff6",
   "metadata": {},
   "outputs": [
    {
     "data": {
      "text/plain": [
       "torch.Size([2000])"
      ]
     },
     "execution_count": 4,
     "metadata": {},
     "output_type": "execute_result"
    }
   ],
   "source": [
    "x.shape"
   ]
  },
  {
   "cell_type": "code",
   "execution_count": 5,
   "id": "0cbf711a",
   "metadata": {},
   "outputs": [],
   "source": [
    "w = torch.ones((50000, 2000), device=torch.device(\"mps\"))\n",
    "w_cpu = torch.ones((50000, 2000), device='cpu')"
   ]
  },
  {
   "cell_type": "code",
   "execution_count": 7,
   "id": "b308bbb4",
   "metadata": {},
   "outputs": [
    {
     "name": "stdout",
     "output_type": "stream",
     "text": [
      "15.013614499941468 s\n"
     ]
    }
   ],
   "source": [
    "s = perf_counter()\n",
    "for i in range(1000):\n",
    "    w_cpu @ x_cpu \n",
    "print(f'{perf_counter() - s} s')"
   ]
  },
  {
   "cell_type": "code",
   "execution_count": 8,
   "id": "be3519d0",
   "metadata": {},
   "outputs": [
    {
     "name": "stdout",
     "output_type": "stream",
     "text": [
      "1.7754602499771863 s\n"
     ]
    }
   ],
   "source": [
    "s = perf_counter()\n",
    "for i in range(1000):\n",
    "    w @ x \n",
    "print(f'{perf_counter() - s} s')"
   ]
  },
  {
   "cell_type": "code",
   "execution_count": 6,
   "id": "e387caa8",
   "metadata": {},
   "outputs": [],
   "source": [
    "# 15s / 1.9 s"
   ]
  },
  {
   "cell_type": "code",
   "execution_count": null,
   "id": "3031ca5c-5511-481d-845f-83a87a30a6a3",
   "metadata": {},
   "outputs": [],
   "source": []
  }
 ],
 "metadata": {
  "kernelspec": {
   "display_name": "ml_playground",
   "language": "python",
   "name": "ml_playground"
  },
  "language_info": {
   "codemirror_mode": {
    "name": "ipython",
    "version": 3
   },
   "file_extension": ".py",
   "mimetype": "text/x-python",
   "name": "python",
   "nbconvert_exporter": "python",
   "pygments_lexer": "ipython3",
   "version": "3.10.6"
  }
 },
 "nbformat": 4,
 "nbformat_minor": 5
}
